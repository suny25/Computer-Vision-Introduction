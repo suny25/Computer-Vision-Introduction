{
 "cells": [
  {
   "cell_type": "code",
   "execution_count": 3,
   "metadata": {},
   "outputs": [],
   "source": [
    "import cv2\n",
    "import numpy as np\n",
    "is_drawing = False\n",
    "ix = -1\n",
    "iy = -1\n",
    "\n",
    "source = cv2.imread(\"sample.jpg\",1)\n",
    "oriImage  = source.copy()\n",
    "def draw_rectangle(event, x, y, flags, param):\n",
    "    global is_drawing, ix, iy\n",
    "    if event == cv2.EVENT_LBUTTONDOWN:\n",
    "        is_drawing = True\n",
    "        ix = x\n",
    "        iy = y\n",
    "    elif event == cv2.EVENT_LBUTTONUP:\n",
    "        is_drawing = False\n",
    "        cv2.rectangle(source, pt1=(ix, iy), pt2=(x, y), color=(255, 0, 0), thickness=2, lineType=cv2.LINE_8)\n",
    "        cv2.imshow(\"Window\",source)\n",
    "        \n",
    "        refPoint = [(ix, iy), (x, y)]\n",
    "        if len(refPoint) == 2: #when two points were found\n",
    "            roi = oriImage[refPoint[0][1]:refPoint[1][1], refPoint[0][0]:refPoint[1][0]]\n",
    "            cv2.imwrite(\"face.png\", roi)\n",
    "            \n",
    "# Make a dummy image, will be useful to clear the drawing\n",
    "dummy = source.copy()\n",
    "cv2.namedWindow(\"Window\")\n",
    "# highgui function called when mouse events occur\n",
    "cv2.setMouseCallback(\"Window\", draw_rectangle)\n",
    "k = 0\n",
    "# loop until escape character is pressed\n",
    "while k!=27 :\n",
    "  \n",
    "  cv2.imshow(\"Window\", source)\n",
    "  cv2.putText(source,'''Choose center, and drag, \n",
    "                      Press ESC to exit and c to clear''' ,\n",
    "              (10,30), cv2.FONT_HERSHEY_SIMPLEX, \n",
    "              0.7,(255,255,255), 2 );\n",
    "  k = cv2.waitKey(20) & 0xFF\n",
    "  # Another way of cloning\n",
    "  if k==99:\n",
    "    source= dummy.copy()\n",
    "\n",
    "\n",
    "cv2.destroyAllWindows()"
   ]
  },
  {
   "cell_type": "code",
   "execution_count": null,
   "metadata": {},
   "outputs": [],
   "source": []
  }
 ],
 "metadata": {
  "kernelspec": {
   "display_name": "Python 3",
   "language": "python",
   "name": "python3"
  },
  "language_info": {
   "codemirror_mode": {
    "name": "ipython",
    "version": 3
   },
   "file_extension": ".py",
   "mimetype": "text/x-python",
   "name": "python",
   "nbconvert_exporter": "python",
   "pygments_lexer": "ipython3",
   "version": "3.8.5"
  }
 },
 "nbformat": 4,
 "nbformat_minor": 2
}
